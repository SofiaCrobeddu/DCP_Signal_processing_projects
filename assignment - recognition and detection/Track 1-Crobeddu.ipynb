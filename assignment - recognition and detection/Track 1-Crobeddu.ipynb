{
 "cells": [
  {
   "cell_type": "markdown",
   "metadata": {},
   "source": [
    "# Assignment 1: Track 1"
   ]
  },
  {
   "cell_type": "markdown",
   "metadata": {},
   "source": [
    "Source of the video used to check this algorithm and to set the rectangle's measures, to the following link: https://github.com/intel-iot-devkit/sample-videos?tab=readme-ov-file\n",
    "\n",
    "File name used: `head-pose-face-detection-male.mp4`"
   ]
  },
  {
   "cell_type": "code",
   "execution_count": 2,
   "metadata": {},
   "outputs": [],
   "source": [
    "import cv2"
   ]
  },
  {
   "cell_type": "code",
   "execution_count": null,
   "metadata": {},
   "outputs": [
    {
     "name": "stdout",
     "output_type": "stream",
     "text": [
      "Okay, read well!\n"
     ]
    }
   ],
   "source": [
    "#Loading the video\n",
    "videoReader = cv2.VideoCapture('C:\\\\Users\\\\sofyc\\\\OneDrive\\\\Desktop\\\\UPEC\\\\CV II\\\\assignment - recognition and detection\\\\head-pose-face-detection-male.mp4')\n",
    "\n",
    "#Check\n",
    "if not videoReader.isOpened():\n",
    "    print(f\"Error: the video can't be loaded.\")\n",
    "else:\n",
    "    print(\"Okay, read well!\")"
   ]
  },
  {
   "cell_type": "code",
   "execution_count": null,
   "metadata": {},
   "outputs": [],
   "source": [
    "#Set up the video viewer\n",
    "cv2.namedWindow(\"Video\", cv2.WINDOW_NORMAL) #window that will show the video\n",
    "cv2.resizeWindow(\"Video\", 680, 420) #window of 680x420 (arbitrary decision)\n",
    "\n",
    "#Reading the first frame of the video\n",
    "ret, objectFrame = videoReader.read()\n",
    "#Check\n",
    "if not ret:\n",
    "    print(\"Error: it was not possible to read the first frame of the video.\")\n",
    "else:\n",
    "    #Defining the region of interest (i.e. ROI) for the face\n",
    "    objectRegion = (310, 35, 160, 210)  #(x, y, width, height)\n",
    "    #Creating a Kernelized Correlation Filter (KCF) tracker \n",
    "    tracker = cv2.TrackerKCF_create()\n",
    "    #Initializing the tracker with the first frame and the face region\n",
    "    tracker.init(objectFrame, objectRegion)\n",
    "    #Loop to process each frame and update the face's position\n",
    "    while videoReader.isOpened():\n",
    "        ret, frame = videoReader.read()\n",
    "        if not ret:\n",
    "            break\n",
    "        #Updating the tracker for each frame, and get the new face position\n",
    "        success, bbox = tracker.update(frame)\n",
    "        if success: #Case when the tracker successfully finds the face, hence it draws a green rectangle around it.\n",
    "            #Drawing the updated rectangle\n",
    "            (x, y, w, h) = [int(v) for v in bbox]\n",
    "            frame = cv2.rectangle(frame, (x, y), (x + w, y + h), (0, 255, 0), 2)\n",
    "        else:\n",
    "            print(\"Tracking lost.\") #Case when the tracking is lost.\n",
    "        #Show the frames\n",
    "        cv2.imshow(\"Video\", frame) #It shows each frame with the face’s tracked position.\n",
    "        #Waiting 30 milliseconds between frames to allow real-time playback.\n",
    "        if cv2.waitKey(30) & 0xFF == ord('q'):  #Click 'q' to exit loop.\n",
    "            break\n",
    "    #Release resources\n",
    "    videoReader.release()\n",
    "    cv2.destroyAllWindows()\n"
   ]
  }
 ],
 "metadata": {
  "kernelspec": {
   "display_name": "myenv",
   "language": "python",
   "name": "python3"
  },
  "language_info": {
   "codemirror_mode": {
    "name": "ipython",
    "version": 3
   },
   "file_extension": ".py",
   "mimetype": "text/x-python",
   "name": "python",
   "nbconvert_exporter": "python",
   "pygments_lexer": "ipython3",
   "version": "3.11.9"
  }
 },
 "nbformat": 4,
 "nbformat_minor": 2
}
